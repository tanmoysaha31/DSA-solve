{
 "cells": [
  {
   "cell_type": "markdown",
   "metadata": {},
   "source": [
    "**Problem**\n",
    "<br>\n",
    "Given an integer array nums, return true if any value appears at least twice in the array, and return false if every element is distinct."
   ]
  },
  {
   "cell_type": "code",
   "execution_count": null,
   "metadata": {},
   "outputs": [],
   "source": [
    "class Solution(object):\n",
    "    def containsDuplicate(self, nums):\n",
    "        return len(set(nums)) != len(nums)"
   ]
  },
  {
   "cell_type": "markdown",
   "metadata": {},
   "source": [
    "**Problem**\n",
    "<br>\n",
    "Given two strings s and t, return true if t is an  anagram of s, and false otherwise.\n",
    "\n",
    "Example 1:\n",
    "\n",
    "Input: s = \"anagram\", t = \"nagaram\"\n",
    "\n",
    "Output: true"
   ]
  },
  {
   "cell_type": "code",
   "execution_count": null,
   "metadata": {},
   "outputs": [],
   "source": [
    "class Solution(object):\n",
    "    def isAnagram(self, s, t):\n",
    "        \"\"\"\n",
    "        :type s: str\n",
    "        :type t: str\n",
    "        :rtype: bool\n",
    "        \"\"\"\n",
    "        if len(s)!=len(t):\n",
    "            return False \n",
    "        \n",
    "        sdic={}\n",
    "        tdic={}\n",
    "        for i in range(len(s)):\n",
    "            sdic[s[i]]=1+sdic.get(s[i],0)\n",
    "            tdic[t[i]]=1+tdic.get(t[i],0)\n",
    "        for j in sdic:\n",
    "            if sdic[j]!=tdic.get(j,0):\n",
    "                return False\n",
    "        return True"
   ]
  },
  {
   "cell_type": "markdown",
   "metadata": {},
   "source": [
    "**Problem**\n",
    "<br>\n",
    "Given an array of integers nums and an integer target, return indices of the two numbers such that they add up to target.\n",
    "\n",
    "You may assume that each input would have exactly one solution, and you may not use the same element twice.\n",
    "\n",
    "You can return the answer in any order.\n",
    "\n",
    " \n",
    "\n",
    "**Example 1:**\n",
    "\n",
    "Input: nums = [2,7,11,15], target = 9 \n",
    "<br>\n",
    "Output: [0,1]\n",
    "<br>\n",
    "Explanation: Because nums[0] + nums[1] == 9, we return [0, 1].\n",
    "\n",
    "**Example 2:**\n",
    "\n",
    "Input: nums = [3,2,4], target = 6\n",
    "<br>\n",
    "Output: [1,2]\n",
    "\n",
    "**Example 3:**\n",
    "\n",
    "Input: nums = [3,3], target = 6\n",
    "<br>\n",
    "Output: [0,1]"
   ]
  },
  {
   "cell_type": "code",
   "execution_count": null,
   "metadata": {},
   "outputs": [],
   "source": [
    "class Solution(object):\n",
    "    def twoSum(self, nums, target):\n",
    "        \"\"\"\n",
    "        :type nums: List[int]\n",
    "        :type target: int\n",
    "        :rtype: List[int]\n",
    "        \"\"\"\n",
    "        dict={}\n",
    "        for i in range(len(nums)):\n",
    "            if target-nums[i] not in dict:\n",
    "                dict[nums[i]]=i\n",
    "            elif target-nums[i] in dict:\n",
    "                return [dict[target-nums[i]],i]"
   ]
  }
 ],
 "metadata": {
  "language_info": {
   "name": "python"
  }
 },
 "nbformat": 4,
 "nbformat_minor": 2
}
